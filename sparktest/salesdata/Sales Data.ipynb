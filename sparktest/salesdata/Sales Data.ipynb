{
 "cells": [
  {
   "cell_type": "code",
   "execution_count": 1,
   "id": "5c7e481b",
   "metadata": {},
   "outputs": [],
   "source": [
    "from pyspark.sql import SparkSession\n",
    "from pyspark.sql.functions import count"
   ]
  },
  {
   "cell_type": "code",
   "execution_count": 2,
   "id": "7852a498",
   "metadata": {},
   "outputs": [
    {
     "name": "stderr",
     "output_type": "stream",
     "text": [
      "WARNING: An illegal reflective access operation has occurred\n",
      "WARNING: Illegal reflective access by org.apache.spark.unsafe.Platform (file:/Library/Frameworks/Python.framework/Versions/3.9/lib/python3.9/site-packages/pyspark/jars/spark-unsafe_2.12-3.0.1.jar) to constructor java.nio.DirectByteBuffer(long,int)\n",
      "WARNING: Please consider reporting this to the maintainers of org.apache.spark.unsafe.Platform\n",
      "WARNING: Use --illegal-access=warn to enable warnings of further illegal reflective access operations\n",
      "WARNING: All illegal access operations will be denied in a future release\n",
      "22/02/15 14:35:01 WARN NativeCodeLoader: Unable to load native-hadoop library for your platform... using builtin-java classes where applicable\n",
      "Using Spark's default log4j profile: org/apache/spark/log4j-defaults.properties\n",
      "Setting default log level to \"WARN\".\n",
      "To adjust logging level use sc.setLogLevel(newLevel). For SparkR, use setLogLevel(newLevel).\n"
     ]
    }
   ],
   "source": [
    "spark = (SparkSession.builder.appName(\"TotalOrdersPerRegionCountry\").getOrCreate())"
   ]
  },
  {
   "cell_type": "code",
   "execution_count": 3,
   "id": "3c4e37ad",
   "metadata": {},
   "outputs": [
    {
     "data": {
      "text/plain": [
       "pyspark.sql.session.SparkSession"
      ]
     },
     "execution_count": 3,
     "metadata": {},
     "output_type": "execute_result"
    }
   ],
   "source": [
    "type(spark)"
   ]
  },
  {
   "cell_type": "code",
   "execution_count": 4,
   "id": "d0bdf4a4",
   "metadata": {},
   "outputs": [
    {
     "name": "stderr",
     "output_type": "stream",
     "text": [
      "                                                                                \r"
     ]
    },
    {
     "name": "stdout",
     "output_type": "stream",
     "text": [
      "+---------------------------------+---------------------+---------+\n",
      "|Region                           |Country              |Order ID |\n",
      "+---------------------------------+---------------------+---------+\n",
      "|Middle East and North Africa     |Azerbaijan           |535113847|\n",
      "|Central America and the Caribbean|Panama               |874708545|\n",
      "|Sub-Saharan Africa               |Sao Tome and Principe|854349935|\n",
      "|Sub-Saharan Africa               |Sao Tome and Principe|892836844|\n",
      "|Central America and the Caribbean|Belize               |129280602|\n",
      "|Europe                           |Denmark              |473105037|\n",
      "|Europe                           |Germany              |754046475|\n",
      "|Middle East and North Africa     |Turkey               |772153747|\n",
      "|Europe                           |United Kingdom       |847788178|\n",
      "|Asia                             |Kazakhstan           |471623599|\n",
      "+---------------------------------+---------------------+---------+\n",
      "only showing top 10 rows\n",
      "\n"
     ]
    }
   ],
   "source": [
    "sales_file = \"data/sales_records.csv\"\n",
    "\n",
    "# sales_df is a dataframe. A dataframe is a distributed collection of data organized into rows and columns.\n",
    "# When we are loading data into the dataframe we also need to infer a schema. \n",
    "# A schema is a structure that describes how the data is organised. \n",
    "# In csv file the very first line is header info which is the schema.\n",
    "sales_df = (spark.read.format(\"csv\").option(\"header\", \"true\").option(\"inferSchema\", \"true\").load(sales_file))\n",
    "\n",
    "sales_df.select(\"Region\", \"Country\", \"Order ID\").show(n=10, truncate=False)"
   ]
  },
  {
   "cell_type": "code",
   "execution_count": 5,
   "id": "a4cb00e1",
   "metadata": {},
   "outputs": [
    {
     "data": {
      "text/plain": [
       "pyspark.sql.dataframe.DataFrame"
      ]
     },
     "execution_count": 5,
     "metadata": {},
     "output_type": "execute_result"
    }
   ],
   "source": [
    "type(sales_df)"
   ]
  },
  {
   "cell_type": "code",
   "execution_count": 6,
   "id": "83348788",
   "metadata": {},
   "outputs": [
    {
     "name": "stderr",
     "output_type": "stream",
     "text": [
      "                                                                                \r"
     ]
    },
    {
     "name": "stdout",
     "output_type": "stream",
     "text": [
      "+---------------------------------+------------+------------+\n",
      "|Region                           |Country     |Total Orders|\n",
      "+---------------------------------+------------+------------+\n",
      "|Sub-Saharan Africa               |Sudan       |623         |\n",
      "|Australia and Oceania            |New Zealand |593         |\n",
      "|Europe                           |Vatican City|590         |\n",
      "|Europe                           |Malta       |589         |\n",
      "|Sub-Saharan Africa               |Mozambique  |589         |\n",
      "|Middle East and North Africa     |Tunisia     |584         |\n",
      "|Asia                             |Cambodia    |584         |\n",
      "|Central America and the Caribbean|Panama      |578         |\n",
      "|Sub-Saharan Africa               |Rwanda      |576         |\n",
      "|Sub-Saharan Africa               |South Africa|575         |\n",
      "+---------------------------------+------------+------------+\n",
      "only showing top 10 rows\n",
      "\n"
     ]
    },
    {
     "name": "stderr",
     "output_type": "stream",
     "text": [
      "[Stage 6:===============================================>       (174 + 4) / 200]\r"
     ]
    },
    {
     "name": "stdout",
     "output_type": "stream",
     "text": [
      "Total Rows =  185\n"
     ]
    },
    {
     "name": "stderr",
     "output_type": "stream",
     "text": [
      "\r",
      "                                                                                \r"
     ]
    }
   ],
   "source": [
    "# Selecting Region, Country and Order ID from our sales data frame.\n",
    "# Group the data by Region and Country.\n",
    "# Aggregate count function to count number of order id's.\n",
    "\n",
    "count_sales_df = (sales_df.select(\"Region\", \"Country\", \"Order ID\")\n",
    "                  .groupBy(\"Region\", \"Country\").agg(count(\"Order ID\").alias(\"Total Orders\"))\n",
    "                  .orderBy(\"Total Orders\", ascending=False))\n",
    "\n",
    "count_sales_df.show(n=10, truncate=False)\n",
    "\n",
    "#Printing total rows in csv file:\n",
    "print(\"Total Rows = \", (count_sales_df.count()))"
   ]
  },
  {
   "cell_type": "code",
   "execution_count": 7,
   "id": "13cf3e4a",
   "metadata": {},
   "outputs": [],
   "source": [
    "# A narrow transformation (filter method) is where output can be computed from a single input partition.\n",
    "# Map, FlatMap, MapPartition, Filter, Sample & Union methods.\n",
    "# Data is stored and distributed into partitions. Single input refers to each partition.\n",
    "# The calculation of data operations can be carried out without the partitions having to exchange or shuffle data."
   ]
  },
  {
   "cell_type": "code",
   "execution_count": 8,
   "id": "39956a3e",
   "metadata": {},
   "outputs": [],
   "source": [
    "# Wide Transformations require input from other partitions, data shuffling is needed before processing.\n",
    "# Intersection, Distinct, ReduceByKey, GroupByKey, Join, Cartesian, Repartition & Coalesce methods.\n",
    "# Spark executors on worker nodes will shuffle data. Data is shuffled and arranged in a new partition."
   ]
  },
  {
   "cell_type": "code",
   "execution_count": 10,
   "id": "003972f8",
   "metadata": {},
   "outputs": [],
   "source": [
    "# Transformations: orderBy(), groupBy(), filter(), select(), join()\n",
    "# Actions: show(), take(), count(), collect(), save()\n",
    "# Transformations always results in a new data frame. Actions don't result in a new dataframe/RDD."
   ]
  },
  {
   "cell_type": "code",
   "execution_count": 11,
   "id": "14baa4ad",
   "metadata": {},
   "outputs": [],
   "source": [
    "# Spark has lazy evaluation. Lazy evaluation means the execution will not start until an action is triggered.\n",
    "# Transformations are lazy in nature i.e. when we call some operation on an RDD, it does not execute immediately."
   ]
  },
  {
   "cell_type": "code",
   "execution_count": null,
   "id": "cb14ff8e",
   "metadata": {},
   "outputs": [],
   "source": []
  }
 ],
 "metadata": {
  "kernelspec": {
   "display_name": "Python 3 (ipykernel)",
   "language": "python",
   "name": "python3"
  },
  "language_info": {
   "codemirror_mode": {
    "name": "ipython",
    "version": 3
   },
   "file_extension": ".py",
   "mimetype": "text/x-python",
   "name": "python",
   "nbconvert_exporter": "python",
   "pygments_lexer": "ipython3",
   "version": "3.9.1"
  }
 },
 "nbformat": 4,
 "nbformat_minor": 5
}
