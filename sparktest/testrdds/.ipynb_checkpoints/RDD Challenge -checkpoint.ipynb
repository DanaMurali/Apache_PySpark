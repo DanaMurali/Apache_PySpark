{
 "cells": [
  {
   "cell_type": "markdown",
   "id": "09a20c3a",
   "metadata": {},
   "source": [
    "# Challenge: Convert Fahrenheit to Degrees Centigrate"
   ]
  },
  {
   "cell_type": "code",
   "execution_count": 16,
   "id": "7ecd7b7b",
   "metadata": {},
   "outputs": [],
   "source": [
    "from pyspark.sql import SparkSession \n",
    "spark = (SparkSession.builder.appName(\"RDDChallenge\").getOrCreate())"
   ]
  },
  {
   "cell_type": "code",
   "execution_count": 17,
   "id": "2904debb",
   "metadata": {},
   "outputs": [],
   "source": [
    "# MY ATTEMPT:"
   ]
  },
  {
   "cell_type": "code",
   "execution_count": 18,
   "id": "36520e4c",
   "metadata": {},
   "outputs": [
    {
     "name": "stdout",
     "output_type": "stream",
     "text": [
      "[59, 57.2, 53.6, 55.4, 51.8, 53.6, 55.4]\n"
     ]
    }
   ],
   "source": [
    "temp_F = [59, 57.2, 53.6, 55.4, 51.8, 53.6, 55.4]\n",
    "print(temp_F)"
   ]
  },
  {
   "cell_type": "code",
   "execution_count": 19,
   "id": "02334504",
   "metadata": {},
   "outputs": [],
   "source": [
    "temp_F_rdd = spark.sparkContext.parallelize(temp_F)"
   ]
  },
  {
   "cell_type": "code",
   "execution_count": 20,
   "id": "3a56620b",
   "metadata": {},
   "outputs": [],
   "source": [
    "temp_C_rdd = temp_F_rdd.map(lambda f: ((f - 32) * 5/9))"
   ]
  },
  {
   "cell_type": "code",
   "execution_count": 21,
   "id": "65f45295",
   "metadata": {},
   "outputs": [
    {
     "name": "stdout",
     "output_type": "stream",
     "text": [
      "15.0\n",
      "14.000000000000002\n",
      "12.0\n",
      "13.0\n",
      "10.999999999999998\n",
      "12.0\n",
      "13.0\n"
     ]
    }
   ],
   "source": [
    "for temp_C in temp_C_rdd.collect():\n",
    "    print(temp_C)"
   ]
  },
  {
   "cell_type": "code",
   "execution_count": 22,
   "id": "a85f4291",
   "metadata": {},
   "outputs": [],
   "source": [
    "#SOLUTION:"
   ]
  },
  {
   "cell_type": "code",
   "execution_count": 23,
   "id": "4d04c116",
   "metadata": {},
   "outputs": [],
   "source": [
    "def fahrenheightToCentigrade(temperature):\n",
    "    centigrade = (temperature - 32) * 5/9\n",
    "    return centigrade"
   ]
  },
  {
   "cell_type": "code",
   "execution_count": 24,
   "id": "c370496c",
   "metadata": {},
   "outputs": [
    {
     "data": {
      "text/plain": [
       "15.0"
      ]
     },
     "execution_count": 24,
     "metadata": {},
     "output_type": "execute_result"
    }
   ],
   "source": [
    "fahrenheightToCentigrade(59)"
   ]
  },
  {
   "cell_type": "code",
   "execution_count": 25,
   "id": "b1deec4c",
   "metadata": {
    "scrolled": true
   },
   "outputs": [
    {
     "data": {
      "text/plain": [
       "[15.0, 14.000000000000002, 12.0, 13.0, 10.999999999999998, 12.0, 13.0]"
      ]
     },
     "execution_count": 25,
     "metadata": {},
     "output_type": "execute_result"
    }
   ],
   "source": [
    "tempFahRDD = temp_F_rdd.map(fahrenheightToCentigrade)\n",
    "tempFahRDD.collect()"
   ]
  },
  {
   "cell_type": "code",
   "execution_count": 26,
   "id": "c1a66624",
   "metadata": {},
   "outputs": [],
   "source": [
    "# Get all the temperature data points greater than 13 degrees Celsius"
   ]
  },
  {
   "cell_type": "code",
   "execution_count": 27,
   "id": "c210397d",
   "metadata": {},
   "outputs": [
    {
     "data": {
      "text/plain": [
       "[15.0, 14.000000000000002, 13.0, 13.0]"
      ]
     },
     "execution_count": 27,
     "metadata": {},
     "output_type": "execute_result"
    }
   ],
   "source": [
    "filterTempRDD = tempFahRDD.filter(lambda x: x>=13)\n",
    "filterTempRDD.collect()"
   ]
  },
  {
   "cell_type": "markdown",
   "id": "dbf9e367",
   "metadata": {},
   "source": [
    "# Challenge: XYZ Research"
   ]
  },
  {
   "cell_type": "markdown",
   "id": "8f3379f0",
   "metadata": {},
   "source": [
    "RDD API - XYZ - Research\n",
    "\n",
    "Imagine working as a Data Scientist for a company called XYZ Research that performs research on many diversified topics, and each research project comes with a Research ID.\n",
    "\n",
    "Each Research can be completed within a year and beyond.\n",
    "\n",
    "Take a look at the data below;\n",
    "\n",
    "data2001List = ['RIN1', 'RIN2', 'RIN3', 'RIN4', 'RIN5', 'RIN6', 'RIN7']\n",
    "\n",
    "data2002List = ['RIN3', 'RIN4', 'RIN7', 'RIN8', 'RIN9']\n",
    "\n",
    "data2003List = ['RIN4', 'RIN8', 'RIN10', 'RIN11', 'RIN12']\n",
    "\n",
    "The above-mentioned data indicates the number of projects that have been completed over a period of 3 years.\n",
    "\n",
    "In 2001, there were at least 7 research projects [RIN1 - 7] that were initiated, RIN8 and RIN9 were initiated in 2002, while RIN10, RIN11, and RIN12 were initiated in 2003.\n",
    "\n",
    "RIN3 also appears in 2002, meaning that the research project has actually spanned over 2 years, RIN4, on the other hand, appears in 2001, 2002, and 2003 which means that the research project spanned over 3 years.\n",
    "\n",
    "XYZ Research Requires you to examine the data and find answers to the following questions;\n",
    "\n",
    "1. How many research projects were initiated in the three years?\n",
    "\n",
    "2. How many projects were completed in the first year?\n",
    "\n",
    "3. How many projects were completed in the first two years?"
   ]
  },
  {
   "cell_type": "code",
   "execution_count": 28,
   "id": "1e7eeffa",
   "metadata": {},
   "outputs": [],
   "source": [
    "data2001List = ['RIN1', 'RIN2', 'RIN3', 'RIN4', 'RIN5', 'RIN6', 'RIN7']\n",
    "data2002List = ['RIN3', 'RIN4', 'RIN7', 'RIN8', 'RIN9']\n",
    "data2003List = ['RIN4', 'RIN8', 'RIN10', 'RIN11', 'RIN12']"
   ]
  },
  {
   "cell_type": "markdown",
   "id": "3bb8d8ef",
   "metadata": {},
   "source": [
    "1) How many research projects were initiated in the three years?"
   ]
  },
  {
   "cell_type": "code",
   "execution_count": 30,
   "id": "623ba9e8",
   "metadata": {},
   "outputs": [],
   "source": [
    "data2001RDD = spark.sparkContext.parallelize(data2001List)\n",
    "data2002RDD = spark.sparkContext.parallelize(data2002List)\n",
    "data2003RDD = spark.sparkContext.parallelize(data2003List)"
   ]
  },
  {
   "cell_type": "markdown",
   "id": "ef728cf8",
   "metadata": {},
   "source": [
    "To solve this question, can make this determination by getting the union of all the given data for the 3 yrs."
   ]
  },
  {
   "cell_type": "code",
   "execution_count": 31,
   "id": "f725d544",
   "metadata": {},
   "outputs": [
    {
     "data": {
      "text/plain": [
       "['RIN1',\n",
       " 'RIN2',\n",
       " 'RIN3',\n",
       " 'RIN4',\n",
       " 'RIN5',\n",
       " 'RIN6',\n",
       " 'RIN7',\n",
       " 'RIN3',\n",
       " 'RIN4',\n",
       " 'RIN7',\n",
       " 'RIN8',\n",
       " 'RIN9']"
      ]
     },
     "execution_count": 31,
     "metadata": {},
     "output_type": "execute_result"
    }
   ],
   "source": [
    "unionOf20012002RDD = data2001RDD.union(data2002RDD)\n",
    "unionOf20012002RDD.collect()"
   ]
  },
  {
   "cell_type": "markdown",
   "id": "36d37233",
   "metadata": {},
   "source": [
    "One more union to add 2003 to the union of 2001 and 2002 above. And make it distinct."
   ]
  },
  {
   "cell_type": "code",
   "execution_count": 35,
   "id": "d06bbe1f",
   "metadata": {},
   "outputs": [
    {
     "data": {
      "text/plain": [
       "['RIN1',\n",
       " 'RIN4',\n",
       " 'RIN9',\n",
       " 'RIN10',\n",
       " 'RIN12',\n",
       " 'RIN2',\n",
       " 'RIN3',\n",
       " 'RIN5',\n",
       " 'RIN8',\n",
       " 'RIN11',\n",
       " 'RIN6',\n",
       " 'RIN7']"
      ]
     },
     "execution_count": 35,
     "metadata": {},
     "output_type": "execute_result"
    }
   ],
   "source": [
    "allResearchRDD = unionOf20012002RDD.union(data2003RDD).distinct()\n",
    "allResearchRDD.collect()"
   ]
  },
  {
   "cell_type": "code",
   "execution_count": 36,
   "id": "35f0d466",
   "metadata": {},
   "outputs": [
    {
     "data": {
      "text/plain": [
       "12"
      ]
     },
     "execution_count": 36,
     "metadata": {},
     "output_type": "execute_result"
    }
   ],
   "source": [
    "allResearchRDD.count()"
   ]
  },
  {
   "cell_type": "markdown",
   "id": "b6103c37",
   "metadata": {},
   "source": [
    "12 research projects were conducted in the 3 years."
   ]
  },
  {
   "cell_type": "markdown",
   "id": "978f24f2",
   "metadata": {},
   "source": [
    "2) How many projects were completed in the first year?"
   ]
  },
  {
   "cell_type": "markdown",
   "id": "0e3ac411",
   "metadata": {},
   "source": [
    "When we subtract dataset B from dataset A, that will give us all the elements that are members of dataset A but not dataset B. In our case 2002 data is dataset B and 2001 is dataset A. We need to do A minus B to get research projects that occured in A."
   ]
  },
  {
   "cell_type": "code",
   "execution_count": 38,
   "id": "b28f1c79",
   "metadata": {},
   "outputs": [
    {
     "data": {
      "text/plain": [
       "['RIN2', 'RIN5', 'RIN6', 'RIN1']"
      ]
     },
     "execution_count": 38,
     "metadata": {},
     "output_type": "execute_result"
    }
   ],
   "source": [
    "firstYearCompletionRDD = data2001RDD.subtract(data2002RDD)\n",
    "firstYearCompletionRDD.collect()"
   ]
  },
  {
   "cell_type": "code",
   "execution_count": 39,
   "id": "223eb276",
   "metadata": {},
   "outputs": [
    {
     "data": {
      "text/plain": [
       "4"
      ]
     },
     "execution_count": 39,
     "metadata": {},
     "output_type": "execute_result"
    }
   ],
   "source": [
    "firstYearCompletionRDD.count()"
   ]
  },
  {
   "cell_type": "markdown",
   "id": "71422646",
   "metadata": {},
   "source": [
    "4 research projects were completed in te first year."
   ]
  },
  {
   "cell_type": "markdown",
   "id": "81fbbad5",
   "metadata": {},
   "source": [
    "3) How many projects were completed in the first two years?"
   ]
  },
  {
   "cell_type": "code",
   "execution_count": 40,
   "id": "60561a4a",
   "metadata": {},
   "outputs": [
    {
     "data": {
      "text/plain": [
       "['RIN1',\n",
       " 'RIN2',\n",
       " 'RIN3',\n",
       " 'RIN4',\n",
       " 'RIN5',\n",
       " 'RIN6',\n",
       " 'RIN7',\n",
       " 'RIN3',\n",
       " 'RIN4',\n",
       " 'RIN7',\n",
       " 'RIN8',\n",
       " 'RIN9']"
      ]
     },
     "execution_count": 40,
     "metadata": {},
     "output_type": "execute_result"
    }
   ],
   "source": [
    "unionTwoYearsRDD = data2001RDD.union(data2002RDD)\n",
    "unionTwoYearsRDD.collect()"
   ]
  },
  {
   "cell_type": "code",
   "execution_count": 42,
   "id": "2369e320",
   "metadata": {},
   "outputs": [
    {
     "data": {
      "text/plain": [
       "['RIN1', 'RIN9', 'RIN2', 'RIN3', 'RIN5', 'RIN6', 'RIN7']"
      ]
     },
     "execution_count": 42,
     "metadata": {},
     "output_type": "execute_result"
    }
   ],
   "source": [
    "unionTwoYearsRDD.subtract(data2003RDD).distinct().collect()"
   ]
  },
  {
   "cell_type": "code",
   "execution_count": 43,
   "id": "3acd0ab4",
   "metadata": {},
   "outputs": [
    {
     "data": {
      "text/plain": [
       "7"
      ]
     },
     "execution_count": 43,
     "metadata": {},
     "output_type": "execute_result"
    }
   ],
   "source": [
    "unionTwoYearsRDD.subtract(data2003RDD).distinct().count()"
   ]
  },
  {
   "cell_type": "markdown",
   "id": "5cfad23a",
   "metadata": {},
   "source": [
    "7 reasearch projects were ocmpleted in the first two years"
   ]
  },
  {
   "cell_type": "code",
   "execution_count": null,
   "id": "775ec93f",
   "metadata": {},
   "outputs": [],
   "source": []
  }
 ],
 "metadata": {
  "kernelspec": {
   "display_name": "Python 3 (ipykernel)",
   "language": "python",
   "name": "python3"
  },
  "language_info": {
   "codemirror_mode": {
    "name": "ipython",
    "version": 3
   },
   "file_extension": ".py",
   "mimetype": "text/x-python",
   "name": "python",
   "nbconvert_exporter": "python",
   "pygments_lexer": "ipython3",
   "version": "3.9.7"
  }
 },
 "nbformat": 4,
 "nbformat_minor": 5
}
